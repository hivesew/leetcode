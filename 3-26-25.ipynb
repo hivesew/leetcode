{
 "cells": [
  {
   "cell_type": "markdown",
   "metadata": {},
   "source": [
    "# 1995. Count Special Quadruplets  \n",
    "Given a 0-indexed integer array `nums`, return the number of **distinct** quadruplets `(a, b, c, d)` such that:  \n",
    "* `nums[a] + nums[b] + nums[c] == nums[d]`, and\n",
    "* `a < b < c < d`\n",
    "\n",
    "**Example 1**  \n",
    "**Input:** nums = [1,2,3,6]  \n",
    "**Output:** 1  \n",
    "\n",
    "**Example 2**  \n",
    "**Input:** nums = [3,3,6,4,5]  \n",
    "**Output:** 0  \n",
    "\n",
    "**Example 3**  \n",
    "**Input:** nums = [1,1,1,3,5]  \n",
    "**Output:** 4  \n",
    "- (0, 1, 2, 3): 1 + 1 + 1 == 3\n",
    "- (0, 1, 3, 4): 1 + 1 + 3 == 5\n",
    "- (0, 2, 3, 4): 1 + 1 + 3 == 5\n",
    "- (1, 2, 3, 4): 1 + 1 + 3 == 5 \n"
   ]
  },
  {
   "cell_type": "code",
   "execution_count": null,
   "metadata": {},
   "outputs": [],
   "source": [
    "\n",
    "def countQuadruplets(nums):\n",
    "    \"\"\"\n",
    "    :type nums: List[int]\n",
    "    :rtype: int\n",
    "    \"\"\"\n",
    "    # O(n^4)\n",
    "    count = 0\n",
    "    for a in range(0, len(nums)):\n",
    "        for b in range(a + 1, len(nums)):\n",
    "            for c in range(b + 1, len(nums)):\n",
    "                for d in range(c + 1, len(nums)):\n",
    "                    if nums[a] + nums[b] + nums[c] == nums[d]:\n",
    "                        count += 1\n",
    "    return count"
   ]
  }
 ],
 "metadata": {
  "kernelspec": {
   "display_name": "venv",
   "language": "python",
   "name": "python3"
  },
  "language_info": {
   "codemirror_mode": {
    "name": "ipython",
    "version": 3
   },
   "file_extension": ".py",
   "mimetype": "text/x-python",
   "name": "python",
   "nbconvert_exporter": "python",
   "pygments_lexer": "ipython3",
   "version": "3.12.3"
  }
 },
 "nbformat": 4,
 "nbformat_minor": 2
}

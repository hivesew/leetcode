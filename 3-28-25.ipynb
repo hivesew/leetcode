{
 "cells": [
  {
   "cell_type": "markdown",
   "metadata": {},
   "source": [
    "# 2243. Calculate Digit Sum of a String\n",
    "You are given a string `s` consisting of digits and an integer `k`.  \n",
    "A **round** can be completed if the length of `s` is greater than `k`. In one round, do the following:\n",
    "\n",
    "1. **Divide** `s` into **consecutive groups** of size `k` such that the first `k` characters are in the first group, the next `k` characters are in the second group, and so on. **Note** that the size of the last group can be smaller than `k`.\n",
    "2. **Replace** each group of `s` with a string representing the sum of all its digits. For example, `\"346\"` is replaced with `\"13\"` because `3 + 4 + 6 = 13`.\n",
    "3. **Merge** consecutive groups together to form a new string. If the length of the string is greater than `k`, repeat from step `1`.\n",
    "Return `s` after all rounds have been completed.\n",
    "\n",
    "**Example 1**  \n",
    "**Input:** s = \"11111222223\", k = 3 \n",
    "**Output:** \"135\"  \n",
    "**Explanation**:\n",
    "- For the first round, we divide s into groups of size 3: \"111\", \"112\", \"222\", and \"23\".  \n",
    "  ​​​​​Then we calculate the digit sum of each group: 1 + 1 + 1 = 3, 1 + 1 + 2 = 4, 2 + 2 + 2 = 6, and 2 + 3 = 5.  \n",
    "  So, s becomes \"3\" + \"4\" + \"6\" + \"5\" = \"3465\" after the first round.  \n",
    "- For the second round, we divide s into \"346\" and \"5\".  \n",
    "  Then we calculate the digit sum of each group: 3 + 4 + 6 = 13, 5 = 5.  \n",
    "  So, s becomes \"13\" + \"5\" = \"135\" after second round.   \n",
    "Now, s.length <= k, so we return \"135\" as the answer.  \n",
    "---\n",
    "**Example 2**  \n",
    "**Input:** s = \"00000000\", k = 3  \n",
    "**Output:** \"000\"  \n",
    "**Explanation:**  \n",
    "We divide s into \"000\", \"000\", and \"00\".  \n",
    "Then we calculate the digit sum of each group: 0 + 0 + 0 = 0, 0 + 0 + 0 = 0, and 0 + 0 = 0.   \n",
    "s becomes \"0\" + \"0\" + \"0\" = \"000\", whose length is equal to k, so we return \"000\".  \n"
   ]
  },
  {
   "cell_type": "code",
   "execution_count": null,
   "metadata": {},
   "outputs": [],
   "source": [
    "import math\n",
    "class Solution:\n",
    "    def digitSum(self, s: str, k: int) -> str:\n",
    "        s = list(s)\n",
    "        while len(s) > k:\n",
    "            # 1. divide into groups of k\n",
    "            num_batches = math.ceil(len(s) / k)\n",
    "            batches = []\n",
    "            for _ in range(num_batches):\n",
    "                group = s[0:k]\n",
    "                batches.append(group)\n",
    "                # print(f'group: {group}')\n",
    "                s = s[k:]\n",
    "            # at this point s is an empty array\n",
    "            # 2. replace\n",
    "            for batch in batches:\n",
    "                # map string characters to ints for summing\n",
    "                batch = list(map(int, batch))\n",
    "                summed = str(sum(batch))\n",
    "                for char in list(summed):\n",
    "                    s.append(char)\n",
    "        return ''.join(s)\n",
    "            \n",
    "\n",
    "\n",
    "\n",
    "      "
   ]
  },
  {
   "cell_type": "code",
   "execution_count": 125,
   "metadata": {},
   "outputs": [
    {
     "name": "stdout",
     "output_type": "stream",
     "text": [
      "135\n",
      "000\n",
      "27\n"
     ]
    }
   ],
   "source": [
    "sol = Solution()\n",
    "print(sol.digitSum(\"11111222223\", 3)) # \"135\"\n",
    "print(sol.digitSum(\"00000000\", 3)) # \"000\"\n",
    "\n",
    "print(sol.digitSum(\"01234567890\", 2)) # \"000\""
   ]
  },
  {
   "cell_type": "markdown",
   "metadata": {},
   "source": [
    "## Notes ##\n",
    "* Was able to get a solution without referencing others solutions\n",
    "* Was able to get a solution without asking chatGPT to fix/give me one to look at\n",
    "* Initial submition did not work because I was summing numbers and did not split into individual characters before adding back to list\n",
    "* Need to practice Big O notation, I believe the complexity is at best O(N) but not sure how to determine average/worst case with the while loop running"
   ]
  }
 ],
 "metadata": {
  "kernelspec": {
   "display_name": ".venv",
   "language": "python",
   "name": "python3"
  },
  "language_info": {
   "codemirror_mode": {
    "name": "ipython",
    "version": 3
   },
   "file_extension": ".py",
   "mimetype": "text/x-python",
   "name": "python",
   "nbconvert_exporter": "python",
   "pygments_lexer": "ipython3",
   "version": "3.12.3"
  }
 },
 "nbformat": 4,
 "nbformat_minor": 2
}

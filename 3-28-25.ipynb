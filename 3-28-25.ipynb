{
 "cells": [
  {
   "cell_type": "markdown",
   "metadata": {},
   "source": [
    "# 2243. Calculate Digit Sum of a String\n",
    "You are given a string `s` consisting of digits and an integer `k`.  \n",
    "A **round** can be completed if the length of `s` is greater than `k`. In one round, do the following:\n",
    "\n",
    "1. **Divide** `s` into **consecutive groups** of size `k` such that the first `k` characters are in the first group, the next `k` characters are in the second group, and so on. **Note** that the size of the last group can be smaller than `k`.\n",
    "2. **Replace** each group of `s` with a string representing the sum of all its digits. For example, `\"346\"` is replaced with `\"13\"` because `3 + 4 + 6 = 13`.\n",
    "3. **Merge** consecutive groups together to form a new string. If the length of the string is greater than `k`, repeat from step `1`.\n",
    "Return `s` after all rounds have been completed.\n",
    "\n",
    "**Example 1**  \n",
    "**Input:** s = \"11111222223\", k = 3 \n",
    "**Output:** \"135\"  \n",
    "**Explanation**:\n",
    "- For the first round, we divide s into groups of size 3: \"111\", \"112\", \"222\", and \"23\".  \n",
    "  ​​​​​Then we calculate the digit sum of each group: 1 + 1 + 1 = 3, 1 + 1 + 2 = 4, 2 + 2 + 2 = 6, and 2 + 3 = 5.  \n",
    "  So, s becomes \"3\" + \"4\" + \"6\" + \"5\" = \"3465\" after the first round.  \n",
    "- For the second round, we divide s into \"346\" and \"5\".  \n",
    "  Then we calculate the digit sum of each group: 3 + 4 + 6 = 13, 5 = 5.  \n",
    "  So, s becomes \"13\" + \"5\" = \"135\" after second round.   \n",
    "Now, s.length <= k, so we return \"135\" as the answer.  \n",
    "---\n",
    "**Example 2**  \n",
    "**Input:** s = \"00000000\", k = 3  \n",
    "**Output:** \"000\"  \n",
    "**Explanation:**  \n",
    "We divide s into \"000\", \"000\", and \"00\".  \n",
    "Then we calculate the digit sum of each group: 0 + 0 + 0 = 0, 0 + 0 + 0 = 0, and 0 + 0 = 0.   \n",
    "s becomes \"0\" + \"0\" + \"0\" = \"000\", whose length is equal to k, so we return \"000\".  \n"
   ]
  },
  {
   "cell_type": "code",
   "execution_count": null,
   "metadata": {},
   "outputs": [],
   "source": [
    "import math\n",
    "class Solution(object):\n",
    "    def digitSum(self, s, k):\n",
    "        \"\"\"\n",
    "        :type s: str\n",
    "        :type k: int\n",
    "        :rtype: str\n",
    "        \"\"\"\n",
    "        s = list(s)\n",
    "       \n",
    "        while len(s) > k:\n",
    "            # 1. divide into groups of k\n",
    "            num_batches = math.ceil(len(s) / k)\n",
    "            batches = []\n",
    "            for i in range(num_batches):\n",
    "                group = s[0:k]\n",
    "                batches.append(group)\n",
    "                print(f'group: {group}')\n",
    "                s = s[k:]\n",
    "            print(batches)\n",
    "            # 2. replace\n",
    "            for batch in batches:\n",
    "                batch = int(batch)\n",
    "                print(sum(batch))\n",
    "\n",
    "            \n",
    "\n",
    "      "
   ]
  },
  {
   "cell_type": "code",
   "execution_count": 47,
   "metadata": {},
   "outputs": [
    {
     "name": "stdout",
     "output_type": "stream",
     "text": [
      "group: ['1', '1', '1']\n",
      "group: ['1', '1', '2']\n",
      "group: ['2', '2', '2']\n",
      "group: ['2', '3']\n",
      "[['1', '1', '1'], ['1', '1', '2'], ['2', '2', '2'], ['2', '3']]\n"
     ]
    },
    {
     "ename": "TypeError",
     "evalue": "unsupported operand type(s) for +: 'int' and 'str'",
     "output_type": "error",
     "traceback": [
      "\u001b[31m---------------------------------------------------------------------------\u001b[39m",
      "\u001b[31mTypeError\u001b[39m                                 Traceback (most recent call last)",
      "\u001b[36mCell\u001b[39m\u001b[36m \u001b[39m\u001b[32mIn[47]\u001b[39m\u001b[32m, line 2\u001b[39m\n\u001b[32m      1\u001b[39m sol = Solution()\n\u001b[32m----> \u001b[39m\u001b[32m2\u001b[39m \u001b[43msol\u001b[49m\u001b[43m.\u001b[49m\u001b[43mdigitSum\u001b[49m\u001b[43m(\u001b[49m\u001b[33;43m\"\u001b[39;49m\u001b[33;43m11111222223\u001b[39;49m\u001b[33;43m\"\u001b[39;49m\u001b[43m,\u001b[49m\u001b[43m \u001b[49m\u001b[32;43m3\u001b[39;49m\u001b[43m)\u001b[49m \u001b[38;5;66;03m# \"135\"\u001b[39;00m\n\u001b[32m      4\u001b[39m \u001b[38;5;66;03m# sol.digitSum(\"00000000\", 3) # \"000\"\u001b[39;00m\n",
      "\u001b[36mCell\u001b[39m\u001b[36m \u001b[39m\u001b[32mIn[46]\u001b[39m\u001b[32m, line 23\u001b[39m, in \u001b[36mSolution.digitSum\u001b[39m\u001b[34m(self, s, k)\u001b[39m\n\u001b[32m     21\u001b[39m \u001b[38;5;66;03m# 2. replace\u001b[39;00m\n\u001b[32m     22\u001b[39m \u001b[38;5;28;01mfor\u001b[39;00m batch \u001b[38;5;129;01min\u001b[39;00m batches:\n\u001b[32m---> \u001b[39m\u001b[32m23\u001b[39m     \u001b[38;5;28mprint\u001b[39m(\u001b[38;5;28;43msum\u001b[39;49m\u001b[43m(\u001b[49m\u001b[43mbatch\u001b[49m\u001b[43m)\u001b[49m)\n",
      "\u001b[31mTypeError\u001b[39m: unsupported operand type(s) for +: 'int' and 'str'"
     ]
    }
   ],
   "source": [
    "sol = Solution()\n",
    "sol.digitSum(\"11111222223\", 3) # \"135\"\n",
    "\n",
    "# sol.digitSum(\"00000000\", 3) # \"000\""
   ]
  }
 ],
 "metadata": {
  "kernelspec": {
   "display_name": ".venv",
   "language": "python",
   "name": "python3"
  },
  "language_info": {
   "codemirror_mode": {
    "name": "ipython",
    "version": 3
   },
   "file_extension": ".py",
   "mimetype": "text/x-python",
   "name": "python",
   "nbconvert_exporter": "python",
   "pygments_lexer": "ipython3",
   "version": "3.12.3"
  }
 },
 "nbformat": 4,
 "nbformat_minor": 2
}

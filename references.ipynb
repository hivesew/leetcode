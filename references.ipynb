{
 "cells": [
  {
   "cell_type": "code",
   "execution_count": null,
   "metadata": {},
   "outputs": [],
   "source": [
    "from collections import Counter\n",
    "\n",
    "def plot_g(*args):\n",
    "    print(args)\n",
    "def plot_b(**kwargs):\n",
    "    print(kwargs)\n",
    "\n",
    "fish = 4\n",
    "plot_g(6, 'hello', 'fishstick', f'fish{fish}')\n",
    "plot_b(opt = False, other_arg='23141243')\n",
    "\n",
    "c = Counter(cats=4, zebras=0, chimpanzees=4, birds=38129)\n",
    "print(c.most_common()[:-2-1:-1])\n",
    "l = [1,2,3,4,5]\n",
    "print(l)\n",
    "# [start : stop : step]\n",
    "# if start is omitted, it defaults to either:\n",
    "# 0 when step is positive; +1,+2, or omitted.\n",
    "# eg. [: n :] starts at 0 and goes to n-1 (exclusive)\n",
    "# -1 when step is negative; -1,-2,-n\n",
    "\n",
    "#print(l[0:5])\n",
    "# print(l[0:5:])\n",
    "# print(l[:5])\n",
    "# print(l[:5:1])\n",
    "# print(l[:5:])\n",
    "# print(l[0:5:1])\n",
    "print(l[0:5:2])\n",
    "\n",
    "print(l[::-1])\n",
    "print(l[-1::-1])\n",
    "print(l[:-6:-1])\n",
    "print(l[-1:-6:-1])\n",
    "print(l[:0:-1])\n",
    "print(l[:2:-1])\n",
    "print(l[:-3:-1])\n",
    "print(l[3:0:-1])\n",
    "print(l[2::-1])\n",
    "print(l[-2:0:-1]) # equivalent to print(l[1:-1:][::-1])"
   ]
  }
 ],
 "metadata": {
  "language_info": {
   "name": "python"
  }
 },
 "nbformat": 4,
 "nbformat_minor": 2
}

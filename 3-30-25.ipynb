{
 "cells": [
  {
   "attachments": {
    "image-2.png": {
     "image/png": "[encoded data removed]"
    },
    "image.png": {
     "image/png": "[encoded data removed]"
    }
   },
   "cell_type": "markdown",
   "metadata": {},
   "source": [
    "# 965. Univalued Binary Tree\n",
    "A binary tree is **uni-valued** if every node in the tree has the same value.  \n",
    "Given the `root` of a binary tree, return `true` if the given tree is uni-valued, or `false` otherwise.\n",
    "\n",
    "**Example 1**  \n",
    "![image.png](attachment:image.png)  \n",
    "**Input:** root = [1,1,1,1,1,null,1]  \n",
    "**Output:** true  \n",
    "\n",
    "**Example 2**  \n",
    "![image-2.png](attachment:image-2.png)  \n",
    "**Input:** root = [2,2,2,5,2]  \n",
    "**Output:** false\n",
    "\n",
    "The number of nodes in the tree is in the range `[1, 100]`.  \n",
    "`0 <= Node.val < 100`"
   ]
  },
  {
   "cell_type": "code",
   "execution_count": 9,
   "metadata": {},
   "outputs": [],
   "source": [
    "# Definition for a binary tree node.\n",
    "class TreeNode:\n",
    "    def __init__(self, val=0, left=None, right=None):\n",
    "        self.val = val\n",
    "        self.left = left\n",
    "        self.right = right\n",
    "from typing import Optional\n",
    "\n",
    "\n",
    "class Solution:\n",
    "    def isUnivalTree(self, root: Optional[TreeNode]) -> bool:\n",
    "        \n",
    "        sameAsRoot = []\n",
    "        def traverse(node):\n",
    "            if node.left != None:\n",
    "                traverse(node.left)\n",
    "            if node.right != None:\n",
    "                traverse(node.right)\n",
    "            sameAsRoot.append(node.val == root.val)\n",
    "\n",
    "        traverse(root)\n",
    "        return all(sameAsRoot)\n",
    "\n"
   ]
  },
  {
   "cell_type": "code",
   "execution_count": 10,
   "metadata": {},
   "outputs": [
    {
     "name": "stdout",
     "output_type": "stream",
     "text": [
      "True\n",
      "False\n"
     ]
    }
   ],
   "source": [
    "sol = Solution()\n",
    "input1 = TreeNode(1, \n",
    "    TreeNode(1, \n",
    "        TreeNode(1), \n",
    "        TreeNode(1)\n",
    "    ), \n",
    "    TreeNode(1, \n",
    "        None, \n",
    "        TreeNode(1)\n",
    "    )\n",
    ")\n",
    "input2 = TreeNode(2, \n",
    "    TreeNode(2, \n",
    "        TreeNode(5), \n",
    "        TreeNode(2)\n",
    "    ), \n",
    "    TreeNode(2)\n",
    ")\n",
    "print(sol.isUnivalTree(input1))\n",
    "print(sol.isUnivalTree(input2))"
   ]
  },
  {
   "cell_type": "markdown",
   "metadata": {},
   "source": [
    "## Notes ##\n",
    "* Was able to get a solution without referencing others solutions\n",
    "* Was able to get a solution without referencing any of the hints\n",
    "* Was able to get a solution without asking chatGPT to fix/give me one to look at  \n",
    "* Not the most elegant solution, I could have done it better by breaking out of the recursion as soon as any value is not the same as the root.\n",
    "* Need to work on my recursive skills with returning true/false and terminating early etc.\n",
    "* Also should work and practice DFS/BFS recursively and iteratively as they show up a lot in many patterns/problems.\n",
    "\n",
    "Big O of recursive functions??... Need to learn and practice  \n",
    "Space complexity??.. Need to learn/practice\n",
    "---"
   ]
  },
  {
   "cell_type": "markdown",
   "metadata": {},
   "source": [
    "# 1299. Replace Elements with Greatest Element on Right Side\n",
    "Given an array `arr`, replace every element in that array with the greatest element among the elements to its right, and replace the last element with `-1`.  \n",
    "After doing so, return the array.  \n",
    "\n",
    "**Example 1**  \n",
    "**Input:** arr = [17,18,5,4,6,1]  \n",
    "**Output:** [18,6,6,6,1,-1]  \n",
    "**Explanation:** \n",
    "- index 0 --> the greatest element to the right of index 0 is index 1 (18).\n",
    "- index 1 --> the greatest element to the right of index 1 is index 4 (6).\n",
    "- index 2 --> the greatest element to the right of index 2 is index 4 (6).\n",
    "- index 3 --> the greatest element to the right of index 3 is index 4 (6).\n",
    "- index 4 --> the greatest element to the right of index 4 is index 5 (1).\n",
    "- index 5 --> there are no elements to the right of index 5, so we put -1.\n",
    "\n",
    "**Example 2**  \n",
    "**Input:** arr = [400]  \n",
    "**Output:** [-1]  \n",
    "**Explanation:** There are no elements to the right of index 0.\n",
    "\n",
    "Constraints:  \n",
    "`1 <= arr.length <= 10^4`  \n",
    "`1 <= arr[i] <= 10^5`"
   ]
  },
  {
   "cell_type": "code",
   "execution_count": null,
   "metadata": {},
   "outputs": [],
   "source": [
    "from typing import List\n",
    "\n",
    "class Solution1:\n",
    "    def replaceElements(self, arr: List[int]) -> List[int]:\n",
    "        for idx in range(len(arr) - 1):\n",
    "            arr[idx] = max(arr[idx + 1:])\n",
    "        arr[-1] = -1\n",
    "        return arr\n",
    "class Solution2:\n",
    "    def replaceElements(self, arr: List[int]) -> List[int]:\n",
    "        maxSeen = arr[-1]\n",
    "        for idx in range(len(arr) - 1, -1, -1):\n",
    "            val = arr[idx]\n",
    "            arr[idx] = maxSeen\n",
    "            maxSeen = max(maxSeen, val)\n",
    "        arr[-1] = -1\n",
    "        return arr\n"
   ]
  },
  {
   "cell_type": "code",
   "execution_count": 16,
   "metadata": {},
   "outputs": [
    {
     "name": "stdout",
     "output_type": "stream",
     "text": [
      "[18, 6, 6, 6, 1, -1]\n",
      "[-1]\n",
      "[18, 6, 6, 6, 1, -1]\n",
      "[-1]\n"
     ]
    }
   ],
   "source": [
    "sol1 = Solution1()\n",
    "sol2 = Solution2()\n",
    "\n",
    "print(sol1.replaceElements([17,18,5,4,6,1])) # [18,6,6,6,1,-1]\n",
    "print(sol1.replaceElements([400])) # [-1]\n",
    "\n",
    "print(sol2.replaceElements([17,18,5,4,6,1])) # [18,6,6,6,1,-1]\n",
    "print(sol2.replaceElements([400])) # [-1]\n"
   ]
  },
  {
   "cell_type": "markdown",
   "metadata": {},
   "source": [
    "## Notes ##\n",
    "* Was able to get a solution without referencing others solutions\n",
    "* Was able to get a solution without referencing any of the hints\n",
    "* Was able to get a solution without asking chatGPT to fix/give me one to look at\n",
    "* While correct, my initial submission did not pass due to exceeding the time limit (TLE).\n",
    "* I was able to come up with the initial solution rather quickly, but the second solution took me longer because I had forgotten to put the current value we are looking at into a temp variable before replacing.\n",
    "* Initial solution takes O(N) traversing the array, and getting the max takes O(N - i) where i is the number of elements already processed (index), so the overall time complexity is O(n^2)\n",
    "* The second solution takes O(N) traversing the array as well, but we only use the max function to compare two values, so this time it is O(1). This gives us an overall time complexity of O(N) which is why the second solution passes but my first one did not."
   ]
  }
 ],
 "metadata": {
  "kernelspec": {
   "display_name": ".venv",
   "language": "python",
   "name": "python3"
  },
  "language_info": {
   "codemirror_mode": {
    "name": "ipython",
    "version": 3
   },
   "file_extension": ".py",
   "mimetype": "text/x-python",
   "name": "python",
   "nbconvert_exporter": "python",
   "pygments_lexer": "ipython3",
   "version": "3.12.3"
  }
 },
 "nbformat": 4,
 "nbformat_minor": 2
}

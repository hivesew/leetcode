{
 "cells": [
  {
   "cell_type": "markdown",
   "metadata": {},
   "source": [
    "# 1041. Robot Bounded In Circle - Medium\n",
    "On an infinite plane, a robot initially stands at `(0, 0)` and faces north. Note that:  \n",
    "- The **north direction** is the positive direction of the y-axis.  \n",
    "- The **south direction** is the negative direction of the y-axis.  \n",
    "- The **east direction** is the positive direction of the x-axis.  \n",
    "- The **west direction** is the negative direction of the x-axis.  \n",
    "\n",
    "The robot can receive one of three instructions:  \n",
    "\n",
    "- `\"G\"`: go straight 1 unit.  \n",
    "- `\"L\"`: turn 90 degrees to the left (i.e., anti-clockwise direction).  \n",
    "- `\"R\"`: turn 90 degrees to the right (i.e., clockwise direction).  \n",
    "\n",
    "The robot performs the `instructions` given in order, and repeats them forever.  \n",
    "\n",
    "Return `true` if and only if there exists a circle in the plane such that the robot never leaves the circle.  \n",
    "\n",
    "**Example 1**  \n",
    "**Input:** instructions = \"GGLLGG\"  \n",
    "**Output:** true  \n",
    "**Explanation:** The robot is initially at (0, 0) facing the north direction.   \n",
    "\"G\": move one step. Position: (0, 1). Direction: North.  \n",
    "\"G\": move one step. Position: (0, 2). Direction: North.  \n",
    "\"L\": turn 90 degrees anti-clockwise. Position: (0, 2). Direction: West.  \n",
    "\"L\": turn 90 degrees anti-clockwise. Position: (0, 2). Direction: South.  \n",
    "\"G\": move one step. Position: (0, 1). Direction: South.  \n",
    "\"G\": move one step. Position: (0, 0). Direction: South.  \n",
    "Repeating the instructions, the robot goes into the cycle: (0, 0) --> (0, 1) --> (0, 2) --> (0, 1) --> (0, 0).  \n",
    "Based on that, we return true.  \n",
    "\n",
    "**Example 2**  \n",
    "**Input:** instructions = \"GG\"  \n",
    "**Output:** false  \n",
    "**Explanation:** The robot is initially at (0, 0) facing the north direction.  \n",
    "\"G\": move one step. Position: (0, 1). Direction: North.  \n",
    "\"G\": move one step. Position: (0, 2). Direction: North.  \n",
    "Repeating the instructions, keeps advancing in the north direction and does not go into cycles.  \n",
    "Based on that, we return false.  \n",
    "\n",
    "**Constraints:**\n",
    "- `1 <= instructions.length <= 100`\n",
    "- `instructions[i]` is `'G'`, `'L'` or, `'R'`."
   ]
  },
  {
   "cell_type": "code",
   "execution_count": 7,
   "metadata": {},
   "outputs": [],
   "source": [
    "class Solution:\n",
    "    def isRobotBounded(self, instructions: str) -> bool:\n",
    "        pos = (0, 0)\n",
    "        directions = 'NESW'\n",
    "        facing = 0 # we can represent the direction we are facing with an index into directions\n",
    "        # when we see a 'R' instruction we increment the index by 1 (% the answer by len(directions)).\n",
    "        # when we see a 'L' instruction we decrement the index by 1 unless\n",
    "        # we are facing North (index 0) in which case we loop back to the end\n",
    "        def move(idx: int, x: int, y: int):\n",
    "            match idx:\n",
    "                case 0: return (x, y + 1)\n",
    "                case 1: return (x + 1, y)\n",
    "                case 2: return (x, y - 1)\n",
    "                case 3: return (x - 1, y)\n",
    "\n",
    "        for _ in range(4):\n",
    "            for ins in instructions:\n",
    "                # print(directions[facing], pos)\n",
    "                if ins == 'G':\n",
    "                    # logic to move forward one space\n",
    "                    pos = move(facing, pos[0], pos[1])\n",
    "                elif ins == 'L':\n",
    "                    facing = (facing - 1) % 4\n",
    "                elif ins == 'R':\n",
    "                    facing = (facing + 1) % 4\n",
    "            # print(directions[facing], pos)\n",
    "        return pos == (0,0)    "
   ]
  },
  {
   "cell_type": "code",
   "execution_count": 8,
   "metadata": {},
   "outputs": [
    {
     "name": "stdout",
     "output_type": "stream",
     "text": [
      "True\n",
      "False\n",
      "True\n"
     ]
    }
   ],
   "source": [
    "sol = Solution()\n",
    "\n",
    "\n",
    "print(sol.isRobotBounded(\"GGLLGG\"))\n",
    "print(sol.isRobotBounded(\"GG\"))\n",
    "print(sol.isRobotBounded(\"GL\"))"
   ]
  },
  {
   "cell_type": "markdown",
   "metadata": {},
   "source": [
    "---\n",
    "## Notes ##\n",
    "Code is terrible and not pythonic whatsoever really, BUT I was able to get a working solution naturally without referencing hints, videos, solutions or AI assistance in a reasonable amount of time.\n",
    "Logic for the simulation could be a lot cleaner, I just went with what came into my head first for keeping track of the direction and turning and didn't optimize it to be pythonic or anything\n",
    "\n",
    "### Time complexity\n",
    "Nested for loop, but since the outer loop runs only 4 times rather than N, amortized the overall time complexity should simplify to O(N) from O(4*N) since 4 is a constant.\n",
    "### Space Complexity\n",
    "Space is O(1) as we just store the position and index, nothing else. \n"
   ]
  }
 ],
 "metadata": {
  "kernelspec": {
   "display_name": ".venv",
   "language": "python",
   "name": "python3"
  },
  "language_info": {
   "codemirror_mode": {
    "name": "ipython",
    "version": 3
   },
   "file_extension": ".py",
   "mimetype": "text/x-python",
   "name": "python",
   "nbconvert_exporter": "python",
   "pygments_lexer": "ipython3",
   "version": "3.12.3"
  }
 },
 "nbformat": 4,
 "nbformat_minor": 2
}
